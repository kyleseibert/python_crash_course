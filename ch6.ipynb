{
 "cells": [
  {
   "cell_type": "code",
   "execution_count": 2,
   "id": "b5e66c3f",
   "metadata": {
    "id": "b5e66c3f"
   },
   "outputs": [
    {
     "name": "stdout",
     "output_type": "stream",
     "text": [
      "{'color': 'green', 'points': 5}\n"
     ]
    }
   ],
   "source": [
    "# dictionaries - basic syntax: \n",
    "\n",
    "food = {'name': 'apple', 'type': 'fruit'}\n",
    "\n",
    "# in key-value pairs - when you provide the key (the first in the set), python will provide the value associated with that key \n",
    "# pairs are seperated by a comma and are associated with each other with the colon \n",
    "\n",
    "# can also start with a blank - can add key-value pairs later like this: \n",
    "\n",
    "alien_0 = {}\n",
    "alien_0['color'] = 'green'\n",
    "alien_0['points'] = 5 \n",
    "\n",
    "print(alien_0)\n",
    "\n",
    "\n"
   ]
  },
  {
   "cell_type": "code",
   "execution_count": null,
   "id": "06332587",
   "metadata": {},
   "outputs": [
    {
     "name": "stdout",
     "output_type": "stream",
     "text": [
      "{'name': 'strawberry', 'type': 'fruit'}\n"
     ]
    }
   ],
   "source": [
    "# how to modify a value in a dictionary? \n",
    "\n",
    "food = {'name': 'apple', 'type': 'fruit'}\n",
    "\n",
    "food['name'] = 'strawberry' # provide the key, then set the value to what you want\n",
    "print(food)"
   ]
  },
  {
   "cell_type": "code",
   "execution_count": 5,
   "id": "9083c672",
   "metadata": {},
   "outputs": [
    {
     "name": "stdout",
     "output_type": "stream",
     "text": [
      "{'name': 'apple', 'type': 'fruit'}\n",
      "{'name': 'apple'}\n"
     ]
    }
   ],
   "source": [
    "# removing a key-value pair - use the del statement \n",
    "\n",
    "food = {'name': 'apple', 'type': 'fruit'}\n",
    "print(food)\n",
    "\n",
    "del food['type']\n",
    "print(food)\n"
   ]
  },
  {
   "cell_type": "code",
   "execution_count": 10,
   "id": "7ba5e463",
   "metadata": {},
   "outputs": [
    {
     "name": "stdout",
     "output_type": "stream",
     "text": [
      "{'kyle': 'bananas', 'bell': 'apples', 'molly': 'pears', 'steve': 'pineapple'}\n",
      "bananas\n",
      "Kyle's favorite fruit is bananas.\n"
     ]
    }
   ],
   "source": [
    "# longer dictionaries - formated like this \n",
    "\n",
    "favorite_fruits = {\n",
    "    'kyle': 'bananas', \n",
    "    'bell': 'apples', \n",
    "    'molly': 'pears',\n",
    "    'steve': 'pineapple',\n",
    "}\n",
    "\n",
    "print(favorite_fruits)\n",
    "print(favorite_fruits['kyle']) # shows what my favorite fruit is \n",
    "\n",
    "# can also pull the value out of a dictionary and store it elsewhere: \n",
    "fruit = favorite_fruits['kyle']\n",
    "print(f\"Kyle's favorite fruit is {fruit}.\")"
   ]
  },
  {
   "cell_type": "code",
   "execution_count": 12,
   "id": "32bd7dc9",
   "metadata": {},
   "outputs": [
    {
     "name": "stdout",
     "output_type": "stream",
     "text": [
      "No taste value assigned.\n"
     ]
    }
   ],
   "source": [
    "# what happens if the key you input when trying to get a value doesn't exist? you will get an error - to avoid, use the get() function  \n",
    "\n",
    "food = {'name': 'apple', 'type': 'fruit'}\n",
    "food_taste = food.get('taste', 'No taste value assigned.') # requires two arguments: the first is what you want to get in the dictionary and the second is the message you want to display if the key-value pair doesn't exist \n",
    "print(food_taste)"
   ]
  },
  {
   "cell_type": "code",
   "execution_count": 25,
   "id": "7702c5d2",
   "metadata": {},
   "outputs": [
    {
     "name": "stdout",
     "output_type": "stream",
     "text": [
      "\n",
      "Key: username\n",
      "Value: kseib\n",
      "\n",
      "Key: first\n",
      "Value: kyle\n",
      "\n",
      "Key: last\n",
      "Value: seibert\n",
      "Kyle's favorite language is Python.\n",
      "Sarah's favorite language is C.\n",
      "Edward's favorite language is Rust.\n",
      "Bell's favorite language is Swift.\n"
     ]
    }
   ],
   "source": [
    "# looping through a dictionary \n",
    "\n",
    "user_0 = {\n",
    "    'username': 'kseib', \n",
    "    'first': 'kyle', \n",
    "    'last': 'seibert',\n",
    "}\n",
    "\n",
    "# here you create variables to store key and variable \n",
    "# then uses the items() method which returns key value pairs \n",
    "for key, value in user_0.items(): \n",
    "    print(f'\\nKey: {key}')\n",
    "    print(f'Value: {value}')\n",
    "\n",
    "# more practice with the language library from the other page \n",
    "favorite_languages = { \n",
    "    'kyle': 'python', \n",
    "    'sarah': 'c', \n",
    "    'edward': 'rust', \n",
    "    'bell': 'swift', \n",
    "}\n",
    "\n",
    "for name, language in favorite_languages.items(): \n",
    "    print(f\"{name.title()}'s favorite language is {language.title()}.\")\n"
   ]
  },
  {
   "cell_type": "code",
   "execution_count": 30,
   "id": "3e6f87a9",
   "metadata": {},
   "outputs": [
    {
     "name": "stdout",
     "output_type": "stream",
     "text": [
      "Kyle\n",
      "Sarah\n",
      "Edward\n",
      "Bell\n",
      "Kyle\n",
      "Sarah\n",
      "Edward\n",
      "Bell\n"
     ]
    }
   ],
   "source": [
    "# what if you just want the keys from a dictionary? use keys() method \n",
    "\n",
    "favorite_languages = { \n",
    "    'kyle': 'python', \n",
    "    'sarah': 'c', \n",
    "    'edward': 'rust', \n",
    "    'bell': 'swift', \n",
    "}\n",
    "\n",
    "for name in favorite_languages.keys(): \n",
    "    print(name.title())\n",
    "\n",
    "# don't even have to use the keys all the time too, just giving the keys is the default behavior when looping through dictionaries \n",
    "\n",
    "for name in favorite_languages:\n",
    "    print(name.title())"
   ]
  },
  {
   "cell_type": "code",
   "execution_count": null,
   "id": "8ddb7d90",
   "metadata": {},
   "outputs": [
    {
     "name": "stdout",
     "output_type": "stream",
     "text": [
      "Bell, thank you for taking our poll.\n",
      "Edward, thank you for taking our poll.\n",
      "Kyle, thank you for taking our poll.\n",
      "Sarah, thank you for taking our poll.\n"
     ]
    }
   ],
   "source": [
    "# sorting through the keys in a particular order \n",
    "\n",
    "favorite_languages = { \n",
    "    'kyle': 'python', \n",
    "    'sarah': 'c', \n",
    "    'edward': 'rust', \n",
    "    'bell': 'swift', \n",
    "}\n",
    "\n",
    "# can use the sorted() function \n",
    "for name in sorted(favorite_languages.keys()):\n",
    "    print(f\"{name.title()}, thank you for taking our poll.\")"
   ]
  },
  {
   "cell_type": "code",
   "execution_count": null,
   "id": "e47c0d02",
   "metadata": {},
   "outputs": [
    {
     "name": "stdout",
     "output_type": "stream",
     "text": [
      "python\n",
      "c\n",
      "rust\n",
      "swift\n",
      "The following cars are the favorites:\n",
      "Chevy\n",
      "Ford\n",
      "Tesla\n"
     ]
    }
   ],
   "source": [
    "# can also just loop through the values using values method\n",
    "\n",
    "favorite_languages = { \n",
    "    'kyle': 'python', \n",
    "    'sarah': 'c', \n",
    "    'edward': 'rust', \n",
    "    'bell': 'swift', \n",
    "}\n",
    "\n",
    "for value in favorite_languages.values(): \n",
    "    print(value)\n",
    "\n",
    "\n",
    "# what if there are repeats and you only want individual values? using set() fn \n",
    "\n",
    "favorite_cars = { \n",
    "    'kyle': 'tesla', \n",
    "    'jimmy': 'ford', \n",
    "    'bell': 'chevy', \n",
    "    'lauren': 'tesla', \n",
    "    'mikele': 'ford', \n",
    "}\n",
    "\n",
    "print(\"The following cars are the favorites:\")\n",
    "for car in set(favorite_cars.values()):\n",
    "    print(car.title())"
   ]
  },
  {
   "cell_type": "code",
   "execution_count": null,
   "id": "54aeb92a",
   "metadata": {},
   "outputs": [
    {
     "name": "stdout",
     "output_type": "stream",
     "text": [
      "{'color': 'green', 'points': 5}\n",
      "{'color': 'purple', 'points': 2}\n",
      "{'color': 'yellow', 'points': 8}\n"
     ]
    }
   ],
   "source": [
    "# nesting - can put dictionaries in lists \n",
    "\n",
    "alien_1 = {'color': 'green', 'points': 5}\n",
    "alien_2 = {'color': 'purple', 'points': 2}\n",
    "alien_3 = {'color': 'yellow', 'points': 8}\n",
    "\n",
    "aliens = [alien_1, alien_2, alien_3]\n",
    "\n",
    "for alien in aliens: \n",
    "    print(alien)"
   ]
  },
  {
   "cell_type": "code",
   "execution_count": null,
   "id": "555780a6",
   "metadata": {},
   "outputs": [
    {
     "name": "stdout",
     "output_type": "stream",
     "text": [
      "You ordered a pizza with thin crust and the following toppings:\n",
      "\tpeperoni\n",
      "\tsausage\n",
      "\textra cheeese\n"
     ]
    }
   ],
   "source": [
    "# can also put lists in dictionaries \n",
    "\n",
    "# useful example is pizzas. By putting a list in a dictionary, you can have different elements of the pizza (like crust and toppings) stored there. \n",
    "\n",
    "pizza = { \n",
    "    'crust': 'thin', \n",
    "    'toppings': ['peperoni', 'sausage', 'extra cheeese'], \n",
    "}\n",
    "\n",
    "# sumarizing the order \n",
    "print(f\"You ordered a pizza with {pizza['crust']} crust and the following toppings:\")\n",
    "for topping in pizza['toppings']: \n",
    "    print(f'\\t{topping}') # \\t tabs the variables "
   ]
  },
  {
   "cell_type": "code",
   "execution_count": null,
   "id": "d5b73991",
   "metadata": {},
   "outputs": [],
   "source": [
    "# can also put a dictionary in a dictionary - for example, users in a website.. storing different information about any given user "
   ]
  }
 ],
 "metadata": {
  "colab": {
   "provenance": []
  },
  "kernelspec": {
   "display_name": "Python 3",
   "language": "python",
   "name": "python3"
  },
  "language_info": {
   "codemirror_mode": {
    "name": "ipython",
    "version": 3
   },
   "file_extension": ".py",
   "mimetype": "text/x-python",
   "name": "python",
   "nbconvert_exporter": "python",
   "pygments_lexer": "ipython3",
   "version": "3.12.4"
  }
 },
 "nbformat": 4,
 "nbformat_minor": 5
}
