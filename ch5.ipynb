{
 "cells": [
  {
   "cell_type": "code",
   "execution_count": null,
   "id": "f4110e9d",
   "metadata": {},
   "outputs": [
    {
     "name": "stdout",
     "output_type": "stream",
     "text": [
      "Tesla\n",
      "BMW\n",
      "Ford\n",
      "Chevy\n",
      "apple\n"
     ]
    }
   ],
   "source": [
    "# if statements \n",
    "\n",
    "cars = ['tesla', 'bmw', 'ford', 'chevy']\n",
    "\n",
    "for car in cars: \n",
    "    if car == 'bmw': \n",
    "        print(car.upper())\n",
    "    else:\n",
    "        print(car.title())\n",
    "\n",
    "# testing for equality is case sentitive in python \n",
    "car = \"Audi\"\n",
    "car == 'audi' # outputs false because audi is not capitalized \n",
    "\n",
    "# if case doesn't matter, you can convert the variable to lowercase: \n",
    "car = 'Audi'\n",
    "car.lower() == 'audi' # now is true bc Audi was lowercased\n",
    "\n",
    "# can you lower an entire list? \n",
    "fruits = ['Apple', 'Orange', \"Pear\"]\n",
    "print(fruits[0].lower()) # you cannot do this for the whole list, but you can for an element in the list \n"
   ]
  },
  {
   "cell_type": "code",
   "execution_count": null,
   "id": "38e56a81",
   "metadata": {},
   "outputs": [
    {
     "name": "stdout",
     "output_type": "stream",
     "text": [
      "Can I have cheese please? \n"
     ]
    }
   ],
   "source": [
    "# inequality - !=\n",
    "\n",
    "pizza_topping = 'pepperoni'\n",
    "\n",
    "if pizza_topping != 'cheese': \n",
    "    print(\"Can I have cheese please? \")\n",
    "else: \n",
    "    print(\"Thanks for the cheese!\")\n"
   ]
  },
  {
   "cell_type": "code",
   "execution_count": null,
   "id": "3011cc48",
   "metadata": {},
   "outputs": [
    {
     "name": "stdout",
     "output_type": "stream",
     "text": [
      "2 is not the correct answer. Please try again.\n"
     ]
    }
   ],
   "source": [
    "# comparing numbers \n",
    "\n",
    "age = 18 \n",
    "age == 18 \n",
    "\n",
    "answer = 2\n",
    "if answer != 5: \n",
    "    print(f\"{answer} is not the correct answer. Please try again.\")\n",
    "\n",
    "# other comparisons include: \n",
    "age = 18 \n",
    "age < 21\n",
    "age >= 21 # and so on and so on \n"
   ]
  },
  {
   "cell_type": "code",
   "execution_count": null,
   "id": "cb1ecf6e",
   "metadata": {},
   "outputs": [
    {
     "data": {
      "text/plain": [
       "False"
      ]
     },
     "execution_count": 15,
     "metadata": {},
     "output_type": "execute_result"
    }
   ],
   "source": [
    "# checking multiple conditions - and/or\n",
    "\n",
    "age_0 = 22 \n",
    "age_1 = 18 \n",
    "age_0 > 21 and age_1 > 21 # prints false because one of the conditions is not true \n",
    "age_0 > 21 or age_1 > 21 # prints true because one of the contitions is true \n",
    "\n",
    "age_0 > 50 or age_1 < 5 # or prints false when all conditions are not true \n"
   ]
  },
  {
   "cell_type": "code",
   "execution_count": null,
   "id": "4be8a1dd",
   "metadata": {},
   "outputs": [
    {
     "name": "stdout",
     "output_type": "stream",
     "text": [
      "Welcome, Kyle. Enjoy our service.\n"
     ]
    }
   ],
   "source": [
    "# checking if a value is in a list \n",
    "\n",
    "users = ['john', 'stacy', 'liam']\n",
    "'john' in users\n",
    "\n",
    "# also can see if a value is _not_ in a list \n",
    "new_user = 'kyle'\n",
    "if new_user not in users:\n",
    "    print(f\"Welcome, {new_user.title()}. Enjoy our service.\")\n",
    "else: \n",
    "    print(\"Please select a differenet username - that one is take.\")\n",
    "\n"
   ]
  },
  {
   "cell_type": "code",
   "execution_count": null,
   "id": "72794b3e",
   "metadata": {},
   "outputs": [
    {
     "name": "stdout",
     "output_type": "stream",
     "text": [
      "Sorry, you are not old enough to vote.\n"
     ]
    }
   ],
   "source": [
    "# more info on if-else statements - work well when there are only two options and you want python to execute one of two options \n",
    "\n",
    "age = 17 \n",
    "if age >= 18: \n",
    "    print(\"You are old enough to vote! Have you registered to vote yet?\")\n",
    "else: \n",
    "    print(\"Sorry, you are not old enough to vote.\")\n"
   ]
  },
  {
   "cell_type": "code",
   "execution_count": null,
   "id": "6588092c",
   "metadata": {},
   "outputs": [
    {
     "name": "stdout",
     "output_type": "stream",
     "text": [
      "Price of admission: $40\n",
      "Price of Admission: $40\n",
      "Price of Admission: $20\n"
     ]
    }
   ],
   "source": [
    "# if-elif-else - when there are more than two possible outcomes \n",
    "\n",
    "# consider an ammusement park that has free admission for those under 4, $25 admission for those aged 15 - 18, and $40 dollar admission for those over 18: \n",
    "\n",
    "age = 70 \n",
    "if age < 4: \n",
    "    print(\"Price of admission: $0\")\n",
    "elif age < 18: \n",
    "    print(\"Price of admission: $25\")\n",
    "else: \n",
    "    print(\"Price of admission: $40\")\n",
    "\n",
    "# could make it more concise and save code with something like this: \n",
    "\n",
    "if age < 4: \n",
    "    price = 0\n",
    "elif age < 18: \n",
    "    price = 25\n",
    "else:\n",
    "    price = 40\n",
    "\n",
    "print(f\"Price of Admission: ${price}\")\n",
    "\n",
    "# can use as many elif lines as you wish too: \n",
    "if age < 4: \n",
    "    price = 0\n",
    "elif age < 18: \n",
    "    price = 25\n",
    "elif age < 65:\n",
    "    price = 40\n",
    "else:\n",
    "    price = 20\n",
    "\n",
    "print(f\"Price of Admission: ${price}\")\n",
    "\n",
    "# python does not require the else block - sometimes it is more clear to have an elif: \n",
    "\n",
    "if age < 4: \n",
    "    price = 0\n",
    "elif age < 18: \n",
    "    price = 25\n",
    "elif age < 65:\n",
    "    price = 40\n",
    "elif age >= 65: # this makes it a bit clearer that those over 65 get 20 admission\n",
    "    price = 20\n",
    "\n",
    "print(f\"Price of Admission: ${price}\")"
   ]
  },
  {
   "cell_type": "code",
   "execution_count": null,
   "id": "ca22d246",
   "metadata": {},
   "outputs": [
    {
     "name": "stdout",
     "output_type": "stream",
     "text": [
      "Adding strawbery to your order.\n",
      "I am sorry, we are out of chocolate\n",
      "Adding pecan to your order.\n"
     ]
    }
   ],
   "source": [
    "# combining lists and if statements \n",
    "\n",
    "# ice cream store is out of chocolate - now what? \n",
    "ice_cream_order = ['strawbery', 'chocolate', 'pecan']\n",
    "\n",
    "for requested_ice_cream in ice_cream_order: \n",
    "    if requested_ice_cream == 'chocolate': \n",
    "        print(\"I am sorry, we are out of chocolate\")\n",
    "    else: \n",
    "        print(f\"Adding {requested_ice_cream} to your order.\")"
   ]
  },
  {
   "cell_type": "code",
   "execution_count": null,
   "id": "368e826c",
   "metadata": {},
   "outputs": [],
   "source": []
  }
 ],
 "metadata": {
  "kernelspec": {
   "display_name": "Python 3",
   "language": "python",
   "name": "python3"
  },
  "language_info": {
   "codemirror_mode": {
    "name": "ipython",
    "version": 3
   },
   "file_extension": ".py",
   "mimetype": "text/x-python",
   "name": "python",
   "nbconvert_exporter": "python",
   "pygments_lexer": "ipython3",
   "version": "3.12.4"
  }
 },
 "nbformat": 4,
 "nbformat_minor": 5
}
