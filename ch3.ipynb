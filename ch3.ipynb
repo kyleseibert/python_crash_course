{
 "cells": [
  {
   "cell_type": "markdown",
   "id": "8800a8f2",
   "metadata": {},
   "source": [
    "Lists"
   ]
  },
  {
   "cell_type": "code",
   "execution_count": null,
   "id": "54d7c305",
   "metadata": {},
   "outputs": [
    {
     "name": "stdout",
     "output_type": "stream",
     "text": [
      "['trek', 'canyon', 'giant']\n",
      "canyon\n",
      "Canyon\n",
      "Giant\n",
      "Canyon\n"
     ]
    }
   ],
   "source": [
    "# in python, list are indicated by []\n",
    "bicycles = ['trek', 'canyon', 'giant']\n",
    "print(bicycles)\n",
    "\n",
    "print(bicycles[1]) # this allows you to access a given item on a specific point in your list \n",
    "\n",
    "print(bicycles[1].title()) # can apply a method to components of a list too\n",
    "\n",
    "print(bicycles[-1].title()) # the negative 1 always grabs the last item in the list \n",
    "\n",
    "print(bicycles[-2].title())\n",
    "\n"
   ]
  },
  {
   "cell_type": "code",
   "execution_count": 10,
   "id": "ab3dd37d",
   "metadata": {},
   "outputs": [
    {
     "data": {
      "text/plain": [
       "'My first bike was a Trek.'"
      ]
     },
     "execution_count": 10,
     "metadata": {},
     "output_type": "execute_result"
    }
   ],
   "source": [
    "# you can use items in a list like you would any other variable \n",
    "\n",
    "message = f\"My first bike was a {bicycles[0].title()}.\"\n",
    "message"
   ]
  },
  {
   "cell_type": "code",
   "execution_count": null,
   "id": "9e8960b0",
   "metadata": {},
   "outputs": [
    {
     "name": "stdout",
     "output_type": "stream",
     "text": [
      "Bell\n",
      "Jimmy\n",
      "Hey Bell, how was your day at work?\n",
      "Zack, what are you up to this weekend?\n",
      "How was your hike, Jimmy\n"
     ]
    }
   ],
   "source": [
    "# exercises \n",
    "\n",
    "# “3-1. Names: Store the names of a few of your friends in a list called names. Print each person’s name by accessing each element in the list, one at a time.”\n",
    "\n",
    "friends = ['Bell', 'Zack', 'Jimmy', 'Mikele']\n",
    "print(friends[0])\n",
    "print(friends[2])\n",
    "\n",
    "# “3-2. Greetings: Start with the list you used in Exercise 3-1, but instead of just printing each person’s name, print a message to them. The text of each message should be the same, but each message should be personalized with the person’s name.”\n",
    "\n",
    "bell_message = f'Hey {friends[0]}, how was your day at work?'\n",
    "print(bell_message)\n",
    "\n",
    "zack_message = f'{friends[1]}, what are you up to this weekend?'\n",
    "print(zack_message)\n",
    "\n",
    "jimmy_message = f'How was your hike, {friends[2]}?'\n",
    "print(jimmy_message)"
   ]
  },
  {
   "cell_type": "code",
   "execution_count": null,
   "id": "51eeb014",
   "metadata": {},
   "outputs": [
    {
     "name": "stdout",
     "output_type": "stream",
     "text": [
      "['salsa', 'canyon', 'giant', 'Cannondale']\n",
      "['salsa', 'canyon', 'giant', 'Cannondale', 'Cannondale']\n",
      "['rose', 'petunia', 'daffoldil']\n"
     ]
    }
   ],
   "source": [
    "# list are nice because you can edit their contents after you creat them\n",
    "\n",
    "# one way to do that is by changing an element in the list after it has been created like this: \n",
    "bicycles[0] = 'salsa'\n",
    "print(bicycles)\n",
    "\n",
    "# you can also add elements with the .append() method \n",
    "bicycles.append('Cannondale')\n",
    "print(bicycles)\n",
    "\n",
    "# this technique allows you to start with an empty list and add things later: \n",
    "flowers = [] \n",
    "flowers.append('rose')\n",
    "flowers.append('petunia')\n",
    "flowers.append('daffoldil')\n",
    "print(flowers)\n"
   ]
  },
  {
   "cell_type": "code",
   "execution_count": null,
   "id": "6fb93630",
   "metadata": {},
   "outputs": [
    {
     "name": "stdout",
     "output_type": "stream",
     "text": [
      "['tesla', 'chevy', 'toyota', 'ford']\n"
     ]
    }
   ],
   "source": [
    "# inserting elements in a list \n",
    "\n",
    "# this technique allows you to place a new element in a specific part of the list \n",
    "cars = ['chevy', 'toyota', 'ford']\n",
    "cars.insert(0, 'tesla')\n",
    "\n",
    "print(cars) # this shifts every element after the position where you just inserted the new item to the right \n"
   ]
  },
  {
   "cell_type": "code",
   "execution_count": null,
   "id": "6141eb71",
   "metadata": {},
   "outputs": [
    {
     "name": "stdout",
     "output_type": "stream",
     "text": [
      "['google', 'meta']\n",
      "['iu', 'ohio state']\n",
      "michigan\n",
      "['chicago,', 'sf']\n",
      "la\n"
     ]
    }
   ],
   "source": [
    "# removing items from a list - can do so with it sposition on the list or its value \n",
    "\n",
    "companies = ['apple', 'google', 'meta']\n",
    "\n",
    "del companies[0]\n",
    "print(companies) # this permanently deletes the first company in the list, in this case apple \n",
    "\n",
    "# another technique is the pop() method, which allows you to use the variable instead of just tossing it \n",
    "colleges = ['iu', 'ohio state', 'michigan']\n",
    "popped_colleges = colleges.pop()\n",
    "\n",
    "print(colleges)\n",
    "print(popped_colleges) # as you can see, pop() takes from the last element in the list \n",
    "\n",
    "# can also remove specific elements with pop \n",
    "cities = ['chicago', 'la', 'sf']\n",
    "popped_cities = cities.pop(1)\n",
    "\n",
    "print(cities)\n",
    "print(popped_cities)\n"
   ]
  },
  {
   "cell_type": "code",
   "execution_count": null,
   "id": "edd6d259",
   "metadata": {},
   "outputs": [
    {
     "name": "stdout",
     "output_type": "stream",
     "text": [
      "['pear', 'cherry']\n",
      "['apple', 'orange']\n",
      "Bananas are my favorite fruit.\n"
     ]
    }
   ],
   "source": [
    "# removing a list element by value if you don't know the position \n",
    "trees = ['oak', 'pear', 'cherry']\n",
    "trees.remove('oak')\n",
    "\n",
    "print(trees)\n",
    "\n",
    "# remove also works \n",
    "fruit = ['apple', 'orange', 'banana']\n",
    "favorite = 'banana'\n",
    "\n",
    "fruit.remove(favorite)\n",
    "print(fruit)\n",
    "print(f'{favorite.title()}s are my favorite fruit.')\n",
    "\n",
    "# one thing to know is remove() only removes the first instance of an element in a list - using a loop allows you to cycle through a list and get all the values \n"
   ]
  },
  {
   "cell_type": "code",
   "execution_count": 41,
   "id": "9b0bf9e9",
   "metadata": {},
   "outputs": [
    {
     "name": "stdout",
     "output_type": "stream",
     "text": [
      "Hi Clair, you are invited to my party.\n",
      "Hi Stacy, you are invited to my party.\n",
      "Hi Jessie, you are invited to my party.\n",
      "Jessie, I am so sorry you cannot make it to the party.\n",
      "Hi Clair, you are invited to my party.\n",
      "Hi Stacy, you are invited to my party.\n",
      "Hi Tony, you are invited to my party.\n"
     ]
    }
   ],
   "source": [
    "# exercises \n",
    "\n",
    "# “3-4. Guest List: If you could invite anyone, living or deceased, to dinner, who would you invite? Make a list that includes at least three people you’d like to invite to dinner. Then use your list to print a message to each person, inviting them to dinner.”\n",
    "\n",
    "guest_list = ['clair', 'stacy', 'jessie']\n",
    "print(f'Hi {guest_list[0].title()}, you are invited to my party.')\n",
    "print(f'Hi {guest_list[1].title()}, you are invited to my party.')\n",
    "print(f'Hi {guest_list[2].title()}, you are invited to my party.')\n",
    "\n",
    "# “3-5. Changing Guest List: You just heard that one of your guests can’t make the dinner, so you need to send out a new set of invitations. You’ll have to think of someone else to invite.Start with your program from Exercise 3-4. Add a print() call at the end of your program, stating the name of the guest who can’t make it. Modify your list, replacing the name of the guest who can’t make it with the name of the new person you are inviting. Print a second set of invitation messages, one for each person who is still in your list.”\n",
    "\n",
    "canceled = 'jessie'\n",
    "guest_list.remove(canceled)\n",
    "\n",
    "print(f\"{canceled.title()}, I am so sorry you cannot make it to the party.\")\n",
    "guest_list.append('tony')\n",
    "\n",
    "print(f'Hi {guest_list[0].title()}, you are invited to my party.')\n",
    "print(f'Hi {guest_list[1].title()}, you are invited to my party.')\n",
    "print(f'Hi {guest_list[2].title()}, you are invited to my party.')\n"
   ]
  },
  {
   "cell_type": "code",
   "execution_count": null,
   "id": "673262f3",
   "metadata": {},
   "outputs": [
    {
     "name": "stdout",
     "output_type": "stream",
     "text": [
      "['salsa', 'giant', 'canyon', 'Cannondale', 'Cannondale']\n",
      "['Cannondale', 'Cannondale', 'canyon', 'giant', 'salsa']\n",
      "['salsa', 'giant', 'canyon', 'Cannondale', 'Cannondale']\n",
      "['Cannondale', 'Cannondale', 'canyon', 'giant', 'salsa']\n"
     ]
    }
   ],
   "source": [
    "# organizing your list \n",
    "\n",
    "# sort() method allows you to alphabatize the contents of a list permanently \n",
    "print(bicycles)\n",
    "bicycles.sort()\n",
    "print(bicycles)\n",
    "\n",
    "# can also sort them in reverse alpha \n",
    "bicycles.sort(reverse=True)\n",
    "print(bicycles)\n",
    "\n",
    "# if you don't want the contents of the list to be permanently changed, you can use sorted() instead \n",
    "print(sorted(bicycles)) # can also use a reverse=True argument to do the same \n"
   ]
  },
  {
   "cell_type": "code",
   "execution_count": 49,
   "id": "1459fd2f",
   "metadata": {},
   "outputs": [
    {
     "name": "stdout",
     "output_type": "stream",
     "text": [
      "['spinach', 'carrots', 'broccoli']\n"
     ]
    },
    {
     "data": {
      "text/plain": [
       "3"
      ]
     },
     "execution_count": 49,
     "metadata": {},
     "output_type": "execute_result"
    }
   ],
   "source": [
    "# to reverse the order of the list, you can use reverse()\n",
    "veggies = ['broccoli', 'carrots', 'spinach']\n",
    "veggies.reverse()\n",
    "print(veggies)\n",
    "\n",
    "# how to find the length of a list? \n",
    "len(veggies)"
   ]
  },
  {
   "cell_type": "code",
   "execution_count": 62,
   "id": "8c6614b8",
   "metadata": {},
   "outputs": [
    {
     "name": "stdout",
     "output_type": "stream",
     "text": [
      "['paris', 'sf', 'south america', 'alaska']\n",
      "['alaska', 'paris', 'sf', 'south america']\n",
      "['paris', 'sf', 'south america', 'alaska']\n",
      "['south america', 'sf', 'paris', 'alaska']\n",
      "['paris', 'sf', 'south america', 'alaska']\n",
      "['alaska', 'south america', 'sf', 'paris']\n",
      "['paris', 'sf', 'south america', 'alaska']\n",
      "['alaska', 'paris', 'sf', 'south america']\n",
      "['south america', 'sf', 'paris', 'alaska']\n"
     ]
    }
   ],
   "source": [
    "# try it yourself\n",
    "places = ['paris', 'sf', 'south america', 'alaska'] \n",
    "print(places)\n",
    "print(sorted(places))\n",
    "print(places)\n",
    "print(sorted(places, reverse=True))\n",
    "print(places)\n",
    "places.reverse()\n",
    "print(places)\n",
    "places.reverse()\n",
    "print(places)\n",
    "places.sort()\n",
    "print(places)\n",
    "places.sort(reverse=True)\n",
    "print(places)\n"
   ]
  },
  {
   "cell_type": "code",
   "execution_count": null,
   "id": "17d2e823",
   "metadata": {},
   "outputs": [],
   "source": []
  }
 ],
 "metadata": {
  "kernelspec": {
   "display_name": "Python 3",
   "language": "python",
   "name": "python3"
  },
  "language_info": {
   "codemirror_mode": {
    "name": "ipython",
    "version": 3
   },
   "file_extension": ".py",
   "mimetype": "text/x-python",
   "name": "python",
   "nbconvert_exporter": "python",
   "pygments_lexer": "ipython3",
   "version": "3.12.4"
  }
 },
 "nbformat": 4,
 "nbformat_minor": 5
}
