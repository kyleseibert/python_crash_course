{
 "cells": [
  {
   "cell_type": "markdown",
   "id": "37aa3b25",
   "metadata": {},
   "source": [
    "Text"
   ]
  },
  {
   "cell_type": "code",
   "execution_count": null,
   "id": "510bda02",
   "metadata": {},
   "outputs": [
    {
     "name": "stdout",
     "output_type": "stream",
     "text": [
      "Kyle Seibert\n",
      "KYLE SEIBERT\n",
      "kyle seibert\n",
      "Kyle Seibert\n"
     ]
    }
   ],
   "source": [
    "# changing case in a string \n",
    "name = \"kyle seibert\"\n",
    "print(name.title()) # title here is a \"method\" in python - is activtated by the period after \"name\"\n",
    "\n",
    "print(name.upper())\n",
    "print(name.lower()) # lower is useful when storing data. For example, someone might mistype a capital letter so before you store their name, lowercase it all and use a different method when you display the data later "
   ]
  },
  {
   "cell_type": "code",
   "execution_count": 6,
   "id": "16161637",
   "metadata": {},
   "outputs": [
    {
     "name": "stdout",
     "output_type": "stream",
     "text": [
      "Kyle Seibert\n",
      "Hello, Kyle!\n"
     ]
    }
   ],
   "source": [
    "#f-strings - is is for format. replaces any variable in brackets with its contents \n",
    "first_name = \"Kyle\"\n",
    "last_name = \"Seibert\"\n",
    "full_name = f\"{first_name} {last_name}\"\n",
    "print(full_name)\n",
    "\n",
    "#can add other text in an f-string and pair with a variable\n",
    "print(f\"Hello, {first_name}!\")"
   ]
  },
  {
   "cell_type": "code",
   "execution_count": null,
   "id": "f95a9793",
   "metadata": {},
   "outputs": [
    {
     "name": "stdout",
     "output_type": "stream",
     "text": [
      "\tI just added a tab\n",
      "Grocery List:\n",
      "apples\n",
      "bananas\n",
      "oranges\n"
     ]
    },
    {
     "data": {
      "text/plain": [
       "'Chipotle'"
      ]
     },
     "execution_count": 10,
     "metadata": {},
     "output_type": "execute_result"
    }
   ],
   "source": [
    "# adding or removing whitespace \n",
    "print(\"\\tI just added a tab\") #adds a tab \n",
    "\n",
    "print(\"Grocery List:\\napples\\nbananas\\noranges\") # puts the following text after \\n in a new line \n",
    "\n",
    "# can use the rstrip()method to remove whitespace at the end of a variable\n",
    "favorite_restaurant = \"Chipotle \"\n",
    "favorite_restaurant.rstrip()\n",
    "\n",
    "favorite_restaurant = favorite_restaurant.rstrip() # this will permanently remove the whitespace that is stored at the end of the variable \n",
    "\n",
    "#can also remove whitespace on the left with lstrip() or both sides simulaneously with strip()\n",
    "\n",
    "\n"
   ]
  },
  {
   "cell_type": "code",
   "execution_count": null,
   "id": "1bcbc26f",
   "metadata": {},
   "outputs": [
    {
     "name": "stdout",
     "output_type": "stream",
     "text": [
      "apple.com\n"
     ]
    },
    {
     "data": {
      "text/plain": [
       "'python_notes'"
      ]
     },
     "execution_count": 22,
     "metadata": {},
     "output_type": "execute_result"
    }
   ],
   "source": [
    "#removing prefixes and suffixes\n",
    "\n",
    "url = \"https://apple.com\"\n",
    "print(url.removeprefix(\"https://\")) # gets rid of the https:// prefix \n",
    "\n",
    "file = \"python_notes.txt\"\n",
    "file.removesuffix(\".txt\") # remvoes the file type "
   ]
  },
  {
   "cell_type": "markdown",
   "id": "b3947783",
   "metadata": {},
   "source": [
    "String Exercises"
   ]
  },
  {
   "cell_type": "code",
   "execution_count": null,
   "id": "16309345",
   "metadata": {},
   "outputs": [
    {
     "name": "stdout",
     "output_type": "stream",
     "text": [
      "Hello, Kyle, let's learn some python.\n"
     ]
    }
   ],
   "source": [
    "# “2-3. Personal Message: Use a variable to represent a person’s name, and print a message to that person. Your message should be simple, such as, “Hello Eric, would you like to learn some Python today?”\n",
    "\n",
    "name = \"Kyle\"\n",
    "print(f\"Hello, {name}. Let's learn some python.\")\n"
   ]
  },
  {
   "cell_type": "code",
   "execution_count": 15,
   "id": "7bac63b0",
   "metadata": {},
   "outputs": [
    {
     "name": "stdout",
     "output_type": "stream",
     "text": [
      "KYLE\n",
      "kyle\n",
      "Kyle\n"
     ]
    }
   ],
   "source": [
    "# “2-4. Name Cases: Use a variable to represent a person’s name, and then print that person’s name in lowercase, uppercase, and title case.”\n",
    "\n",
    "name = \"Kyle\" \n",
    "print(name.upper())\n",
    "print(name.lower())\n",
    "print(name.title())"
   ]
  },
  {
   "cell_type": "code",
   "execution_count": 17,
   "id": "6747590b",
   "metadata": {},
   "outputs": [
    {
     "name": "stdout",
     "output_type": "stream",
     "text": [
      "Thomas Edison once said \"There is no substitute for hard work.\"\n"
     ]
    }
   ],
   "source": [
    "# “2-5. Famous Quote: Find a quote from a famous person you admire. Print the quote and the name of its author. Your output should look something like the following, including the quotation marks:”\n",
    "\n",
    "quote = \"There is no substitute for hard work.\"\n",
    "print(f'Thomas Edison once said \"{quote}\"')"
   ]
  },
  {
   "cell_type": "code",
   "execution_count": 18,
   "id": "5305e47d",
   "metadata": {},
   "outputs": [
    {
     "name": "stdout",
     "output_type": "stream",
     "text": [
      "Thomas Edison once said \"There is no substitute for hard work.\"\n"
     ]
    }
   ],
   "source": [
    "# “2-6. Famous Quote 2: Repeat Exercise 2-5, but this time, represent the famous person’s name using a variable called famous_person. Then compose your message and represent it with a new variable called message. Print your message.”\n",
    "\n",
    "quote = \"There is no substitute for hard work.\"\n",
    "famous_person = \"Thomas Edison\"\n",
    "message = f'{famous_person} once said \"{quote}\"'\n",
    "print(message)"
   ]
  },
  {
   "cell_type": "markdown",
   "id": "766ac579",
   "metadata": {},
   "source": [
    "Number Types in Python"
   ]
  },
  {
   "cell_type": "code",
   "execution_count": null,
   "id": "02331558",
   "metadata": {},
   "outputs": [
    {
     "name": "stdout",
     "output_type": "stream",
     "text": [
      "1\n",
      "2\n",
      "3\n"
     ]
    }
   ],
   "source": [
    "# use ** to exponentiate a number \n",
    "2 ** 4 \n",
    "\n",
    "# when you divide any number by another, you will always get a float (even if they're integers) \n",
    "4 / 4 \n",
    "\n",
    "# can use underscores to make large number readable\n",
    "age_of_universe = 14_000_000_000\n",
    "age_of_universe\n",
    "\n",
    "# you can assign different numbers to different variables simulaneously \n",
    "x, y, z = 1, 2, 3, \n",
    "print(x)\n",
    "print(y)\n",
    "print(z)\n",
    "\n",
    "# if there is a number that shouldn't be changed during the life of a program, you should capitalize all the letters in the variable \n",
    "MAX_USERS = 100\n",
    "\n"
   ]
  },
  {
   "cell_type": "code",
   "execution_count": null,
   "id": "c8d8fe04",
   "metadata": {},
   "outputs": [],
   "source": []
  }
 ],
 "metadata": {
  "kernelspec": {
   "display_name": "Python 3",
   "language": "python",
   "name": "python3"
  },
  "language_info": {
   "codemirror_mode": {
    "name": "ipython",
    "version": 3
   },
   "file_extension": ".py",
   "mimetype": "text/x-python",
   "name": "python",
   "nbconvert_exporter": "python",
   "pygments_lexer": "ipython3",
   "version": "3.12.4"
  }
 },
 "nbformat": 4,
 "nbformat_minor": 5
}
