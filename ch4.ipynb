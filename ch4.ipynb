{
 "cells": [
  {
   "cell_type": "code",
   "execution_count": null,
   "id": "e4a66999",
   "metadata": {},
   "outputs": [
    {
     "name": "stdout",
     "output_type": "stream",
     "text": [
      "iu\n",
      "ohio state\n",
      "michigan\n",
      "Iu is a a great school.\n",
      "Ohio State is a a great school.\n",
      "Michigan is a a great school.\n"
     ]
    }
   ],
   "source": [
    "# ch 4 working with lists \n",
    "\n",
    "# for loops to iterate through every element in a list \n",
    "colleges = ['iu', 'ohio state', 'michigan']\n",
    "\n",
    "for college in colleges:\n",
    "    print(college)\n",
    "\n",
    "# can put a lot more within a loop\n",
    "for college in colleges: \n",
    "    print(f\"{college.title()} is a a great school.\")\n"
   ]
  },
  {
   "cell_type": "code",
   "execution_count": null,
   "id": "0b108fde",
   "metadata": {},
   "outputs": [
    {
     "name": "stdout",
     "output_type": "stream",
     "text": [
      "1\n",
      "2\n",
      "3\n",
      "4\n",
      "0\n",
      "1\n",
      "2\n",
      "3\n",
      "4\n",
      "5\n",
      "6\n",
      "7\n",
      "8\n",
      "9\n"
     ]
    }
   ],
   "source": [
    "# numberical lists \n",
    "\n",
    "# range() fn - lets you generate a series of numbers \n",
    "for value in range(1, 5): \n",
    "    print(value) # note that 5 is not printed - goes up to five but does not include five \n",
    "\n",
    "# you can also just give range() one argument, and it will run from 0 to that number \n",
    "for value in range(10): \n",
    "    print(value)\n",
    "\n"
   ]
  },
  {
   "cell_type": "code",
   "execution_count": null,
   "id": "34fa9df0",
   "metadata": {},
   "outputs": [
    {
     "name": "stdout",
     "output_type": "stream",
     "text": [
      "[1, 2, 3, 4, 5]\n",
      "[2, 4, 6, 8, 10]\n",
      "[1, 4, 9, 16, 25, 36, 49, 64, 81, 100]\n"
     ]
    }
   ],
   "source": [
    "# can use range to create a list of numbers \n",
    "numbers = list(range(1,6)) # uses list to convert the numbers into a list\n",
    "print(numbers)\n",
    "\n",
    "# a third argument in the range fn is the step size so you can pass over numbers \n",
    "evens = list(range(2,11,2))\n",
    "print(evens)\n",
    "\n",
    "squares = []\n",
    "for value in range(1,11):\n",
    "    square = value ** 2 \n",
    "    squares.append(square)\n",
    "\n",
    "print(squares)\n",
    "\n",
    "# or, can be written like: \n",
    "for value in range(1,11): \n",
    "    squares.append(value**2) # using this technique, you can create just about any list of numbers you want "
   ]
  },
  {
   "cell_type": "code",
   "execution_count": 20,
   "id": "7a1d7892",
   "metadata": {},
   "outputs": [
    {
     "name": "stdout",
     "output_type": "stream",
     "text": [
      "[0, 6, 12, 18, 24, 30, 36, 42, 48, 54, 60, 66, 72, 78, 84, 90, 96]\n"
     ]
    },
    {
     "data": {
      "text/plain": [
       "816"
      ]
     },
     "execution_count": 20,
     "metadata": {},
     "output_type": "execute_result"
    }
   ],
   "source": [
    "# min, max, sum\n",
    "\n",
    "digits = list(range(0,100,6))\n",
    "print(digits)\n",
    "min(digits)\n",
    "max(digits)\n",
    "sum(digits)"
   ]
  },
  {
   "cell_type": "code",
   "execution_count": 22,
   "id": "5bc63ecd",
   "metadata": {},
   "outputs": [
    {
     "name": "stdout",
     "output_type": "stream",
     "text": [
      "[1, 4, 9, 16, 25, 36, 49, 64, 81, 100]\n"
     ]
    }
   ],
   "source": [
    "# list comprehensions - combines for loop and creating new elements all in one line \n",
    "\n",
    "squares = [value**2 for value in range(1,11)]\n",
    "print(squares)"
   ]
  },
  {
   "cell_type": "code",
   "execution_count": null,
   "id": "ac876025",
   "metadata": {},
   "outputs": [
    {
     "name": "stdout",
     "output_type": "stream",
     "text": [
      "['football', 'soccer']\n",
      "['football', 'soccer', 'tennis', 'cross country']\n",
      "cross country\n",
      "['ski', 'ping pong']\n",
      "['football', 'tennis']\n",
      "Football is so much fun!\n",
      "Soccer is so much fun!\n",
      "Tennis is so much fun!\n",
      "['starbucks', 'chipotle', 'mcdonalds', 'wendys']\n"
     ]
    }
   ],
   "source": [
    "# working with part of a list\n",
    "\n",
    "# making a slice - only takes parts of the list that you specify - is not inclusive of the last element that you specify \n",
    "sports = ['football', 'soccer', 'tennis', 'cross country', 'pickleball', 'ski', 'ping pong']\n",
    "print(sports[0:2]) # can generate any subset of a list with this technique \n",
    "\n",
    "# if you do not include the first number, it will start at the beginning of the list \n",
    "print(sports[:4])\n",
    "\n",
    "# same deal if you do not include the end index \n",
    "print(sports[3])\n",
    "\n",
    "# what if you want to pull the last n elements from a list? \n",
    "print(sports[-2:])\n",
    "\n",
    "# the third item in the brackets indicates a slice telling you how many elements to skip \n",
    "print(sports[0:3:2])\n",
    "\n",
    "# can use a for loop to iterate through a slice\n",
    "for sport in sports[0:3]: \n",
    "    print(f'{sport.title()} is so much fun!')\n",
    "\n",
    "# copying a list \n",
    "fast_food = ['starbucks', 'chipotle', 'mcdonalds', 'wendys']\n",
    "food_copy = fast_food[:]\n",
    "\n",
    "print(food_copy) # if you didn't use the slice and just set the two lists to each other, you wouldn't actually create a new list. things added to fast_food would be added to food_copy"
   ]
  },
  {
   "cell_type": "code",
   "execution_count": null,
   "id": "ad101de2",
   "metadata": {},
   "outputs": [
    {
     "name": "stdout",
     "output_type": "stream",
     "text": [
      "200\n",
      "200\n",
      "50\n",
      "10\n",
      "400\n",
      "10\n",
      "25\n"
     ]
    }
   ],
   "source": [
    "# tuples - lists are great for things that you want to change, but tuples store data the same way but are immutable\n",
    " \n",
    "dimensions = (200, 50, 10) # defined just like a list, but with () \n",
    "print(dimensions[0])\n",
    "\n",
    "# can use loops similarly like in lists: \n",
    "for dimension in dimensions: \n",
    "    print(dimension)\n",
    "\n",
    "#only way to change the values in a tuple is to redifine the entire tuple\n",
    "dimensions = (400, 10, 25)\n",
    "for dimension in dimensions:\n",
    "    print(dimension)\n",
    "    "
   ]
  },
  {
   "cell_type": "code",
   "execution_count": null,
   "id": "2c9e55c0",
   "metadata": {},
   "outputs": [],
   "source": []
  }
 ],
 "metadata": {
  "kernelspec": {
   "display_name": "Python 3",
   "language": "python",
   "name": "python3"
  },
  "language_info": {
   "codemirror_mode": {
    "name": "ipython",
    "version": 3
   },
   "file_extension": ".py",
   "mimetype": "text/x-python",
   "name": "python",
   "nbconvert_exporter": "python",
   "pygments_lexer": "ipython3",
   "version": "3.12.4"
  }
 },
 "nbformat": 4,
 "nbformat_minor": 5
}
